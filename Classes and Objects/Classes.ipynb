{
  "nbformat": 4,
  "nbformat_minor": 0,
  "metadata": {
    "colab": {
      "name": "Classes.ipynb",
      "provenance": [],
      "collapsed_sections": [],
      "authorship_tag": "ABX9TyO5+gGs8hknsSz430tTMlo9",
      "include_colab_link": true
    },
    "kernelspec": {
      "name": "python3",
      "display_name": "Python 3"
    }
  },
  "cells": [
    {
      "cell_type": "markdown",
      "metadata": {
        "id": "view-in-github",
        "colab_type": "text"
      },
      "source": [
        "<a href=\"https://colab.research.google.com/github/abdelilah-bouslama/python/blob/master/Classes%20and%20Objects/Classes.ipynb\" target=\"_parent\"><img src=\"https://colab.research.google.com/assets/colab-badge.svg\" alt=\"Open In Colab\"/></a>"
      ]
    },
    {
      "cell_type": "code",
      "metadata": {
        "id": "dFLHjXt1f_1a",
        "colab_type": "code",
        "colab": {}
      },
      "source": [
        "from datetime import datetime\n",
        "from datetime import date"
      ],
      "execution_count": 0,
      "outputs": []
    },
    {
      "cell_type": "code",
      "metadata": {
        "id": "Vgr5x6L-nN-w",
        "colab_type": "code",
        "colab": {}
      },
      "source": [
        "class Skill:\n",
        "    def __init__(self, name:str, description:str):\n",
        "        self.name = name\n",
        "        self.description = description"
      ],
      "execution_count": 0,
      "outputs": []
    },
    {
      "cell_type": "code",
      "metadata": {
        "id": "heciYODQVXno",
        "colab_type": "code",
        "colab": {}
      },
      "source": [
        "class Contract:\n",
        "    def __init__(self, contractType:str = 'CDI', startDate:date = datetime.now(), endDate:date = None):\n",
        "        self.contractType = contractType\n",
        "        self.startDate = startDate\n",
        "        self.endDate = endDate"
      ],
      "execution_count": 0,
      "outputs": []
    },
    {
      "cell_type": "code",
      "metadata": {
        "id": "MGNIuJP-7VTO",
        "colab_type": "code",
        "colab": {}
      },
      "source": [
        "class Adress:\n",
        "    def __init__(self, cp:str, city:str, country:str):\n",
        "        self.cp = cp\n",
        "        self.city = city\n",
        "        self.country = country\n",
        "        self.posGeo = self.getPosGeo()\n",
        "\n",
        "    def getPosGeo(self):\n",
        "        return None"
      ],
      "execution_count": 0,
      "outputs": []
    },
    {
      "cell_type": "code",
      "metadata": {
        "id": "sn_lPA1R7NvY",
        "colab_type": "code",
        "colab": {}
      },
      "source": [
        "class Company:\n",
        "    def __init__(self, name:str, adress:Adress, otherInfo:str = None):\n",
        "        self.name = name\n",
        "        self.Adress = adress\n",
        "        self.otherInfos = otherInfo"
      ],
      "execution_count": 0,
      "outputs": []
    },
    {
      "cell_type": "code",
      "metadata": {
        "id": "mpkU6cmR7HMB",
        "colab_type": "code",
        "colab": {}
      },
      "source": [
        "class Poste:\n",
        "    def __init__(self, title:str):\n",
        "        self.title = title"
      ],
      "execution_count": 0,
      "outputs": []
    },
    {
      "cell_type": "code",
      "metadata": {
        "id": "_hKkGAUOhY59",
        "colab_type": "code",
        "colab": {}
      },
      "source": [
        "class Experience:\n",
        "    def __init__(self, poste:Poste, company:Company, startDate:date = datetime.now(), endDate:date = None):\n",
        "        self.poste = poste\n",
        "        self.company = company\n",
        "        self.startDate = startDate\n",
        "        self.endDate = endDate"
      ],
      "execution_count": 0,
      "outputs": []
    },
    {
      "cell_type": "code",
      "metadata": {
        "id": "gpPYQnlnZkpf",
        "colab_type": "code",
        "colab": {}
      },
      "source": [
        "class Employee:\n",
        "    raise_percentage = 1.04\n",
        "    teams = []\n",
        "    def __init__(self, firstName:str, lastName:str, birthDay:date, contratType:Contract, type:str, skills:[], experiences:[]):\n",
        "        self.firstName = firstName\n",
        "        self.lastName = lastName\n",
        "        self.birthDay = birthDay\n",
        "        self.contratType = contratType\n",
        "        self.type = type\n",
        "        self.skills = skills\n",
        "        self.experiences = experiences\n",
        "        \n",
        "        \n",
        "    def getFullName(self):\n",
        "        #return self.firstName +  ' ' + self.lastName\n",
        "        return '{} {}'.format(self.firstName, self.lastName)\n",
        "\n",
        "    def getAge(self):\n",
        "        today = date.today()\n",
        "        return today.year - self.birthDay.year\n",
        "    def addSkill(self, skill:Skill):\n",
        "        self.skills.append(skill)\n",
        "\n",
        "    def displaySkills(self):\n",
        "        for skill in self.skills:\n",
        "            print(skill.name + ' : ' + skill.description)   \n",
        "\n",
        "    def displayTeams(self, teamName:str = '', type:str = 'all'):\n",
        "       if (teamName == ''):\n",
        "           for team in self.teams:\n",
        "               print(team.name + \" : \")\n",
        "               for teamMember in team.members:\n",
        "                   print(teamMember.getFullName() +  \" : \" + teamMember.type)"
      ],
      "execution_count": 0,
      "outputs": []
    },
    {
      "cell_type": "code",
      "metadata": {
        "id": "YgD-9Exb451H",
        "colab_type": "code",
        "colab": {}
      },
      "source": [
        "class Team:\n",
        "    def __init__(self, name:str, members:[]):\n",
        "        self.name = name\n",
        "        self.members = members\n",
        "        \n",
        "    def addMember(self,member:Employee):\n",
        "        self.members.append(member)\n"
      ],
      "execution_count": 0,
      "outputs": []
    },
    {
      "cell_type": "code",
      "metadata": {
        "id": "97Hu5iSIsfoU",
        "colab_type": "code",
        "colab": {}
      },
      "source": [
        "class Manager(Employee):\n",
        "    raise_percentage = 1.10\n",
        "    def __init__(self, firstName:str, lastName:str, birthDay:date, contract:Contract, skills:[], experiences:[]):\n",
        "        super().__init__(firstName, lastName, birthDay, contract, 'Manager', skills, experiences)\n",
        "\n",
        "    def addTeam(self, team:Team):\n",
        "        self.teams.append(team)\n",
        "\n",
        "    def displayTeams(self, teamName:str = '', type:str = 'all'):\n",
        "        for teamMember in self.team:\n",
        "            print(teamMember.getFullName() +  \" : \" + teamMember.type)"
      ],
      "execution_count": 0,
      "outputs": []
    },
    {
      "cell_type": "code",
      "metadata": {
        "id": "PuCstfERsjgp",
        "colab_type": "code",
        "colab": {}
      },
      "source": [
        "class Director(Employee):\n",
        "    raise_percentage = 1.25\n",
        "    def __init__(self, firstName:str, lastName:str, birthDay:date, contract:Contract, skills:[], experiences:[]):\n",
        "        super().__init__(firstName, lastName, birthDay, contract, 'Director', skills, experiences)\n",
        "        self.managers = []\n",
        "\n",
        "    def addManager(self,manager:Manager):\n",
        "        self.managers.append(manager) \n",
        "    def displayManagers(teamMember:bool = False):\n",
        "        super().displayTeams()"
      ],
      "execution_count": 0,
      "outputs": []
    },
    {
      "cell_type": "markdown",
      "metadata": {
        "id": "mcOR8qosAsWn",
        "colab_type": "text"
      },
      "source": [
        "# **TEST && EXECUTION**\n",
        "\n",
        "---\n",
        "\n"
      ]
    },
    {
      "cell_type": "code",
      "metadata": {
        "id": "4bxWE8UMvrVj",
        "colab_type": "code",
        "colab": {}
      },
      "source": [
        "director = Director('hicham', 'dani', date(1971, 5, 17), Contract('CDI'),[],[])\n",
        "skill = Skill('Business Administration', 'description of BA')\n",
        "director.addSkill(skill)"
      ],
      "execution_count": 0,
      "outputs": []
    },
    {
      "cell_type": "code",
      "metadata": {
        "id": "B2aAklam5eep",
        "colab_type": "code",
        "colab": {}
      },
      "source": [
        "teamList = [\n",
        "            Employee('Abdelilah', 'Bouslama', date(1989, 1, 29),  Contract('FREELANCE'), 'DEVELOPER', \n",
        "                     [\n",
        "                      Skill('DBA', 'Data Base Administration'),\n",
        "                      Skill('PHP(5/7)', 'PHP version 5 and 7'),\n",
        "                      Skill('DataScience', 'DataScience')\n",
        "                     ], \n",
        "                     [\n",
        "                        Experience(\n",
        "                            Poste('Backend Developer'), \n",
        "                            Company('Flyer.be',\n",
        "                                Adress('22400', 'Casablanca', 'Morocco')\n",
        "                            ), \n",
        "                            date(2013, 1, 1),\n",
        "                            date(2017, 7, 30)\n",
        "                        ),\n",
        "                        Experience(\n",
        "                            Poste('Freelance Consultant'), \n",
        "                            Company('Atos.net',\n",
        "                                Adress('33469', 'Casablanca', 'Morocco')\n",
        "                            ), \n",
        "                            date(2017, 8, 1)\n",
        "                        )\n",
        "                     ]\n",
        "            )\n",
        "]\n",
        "team = Team('Developers', teamList)"
      ],
      "execution_count": 0,
      "outputs": []
    },
    {
      "cell_type": "code",
      "metadata": {
        "id": "qP9xpM_-yVnf",
        "colab_type": "code",
        "colab": {}
      },
      "source": [
        "manager = Manager('mohamed', 'meftah', date(1977, 4, 3), Contract('CDI'), [], [])\n",
        "manager.addTeam(team)\n",
        "director.addManager(manager)"
      ],
      "execution_count": 0,
      "outputs": []
    },
    {
      "cell_type": "code",
      "metadata": {
        "id": "8lPr2sk-n_Of",
        "colab_type": "code",
        "colab": {}
      },
      "source": [
        "director.displayManagers()"
      ],
      "execution_count": 0,
      "outputs": []
    }
  ]
}