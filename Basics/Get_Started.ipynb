{
  "nbformat": 4,
  "nbformat_minor": 0,
  "metadata": {
    "colab": {
      "name": "Get Started.ipynb",
      "provenance": [],
      "authorship_tag": "ABX9TyN0MkS2R2CQw812Dl41so08",
      "include_colab_link": true
    },
    "kernelspec": {
      "name": "python3",
      "display_name": "Python 3"
    }
  },
  "cells": [
    {
      "cell_type": "markdown",
      "metadata": {
        "id": "view-in-github",
        "colab_type": "text"
      },
      "source": [
        "<a href=\"https://colab.research.google.com/github/abdelilah-bouslama/python-fondamentales/blob/master/Basics/Get_Started.ipynb\" target=\"_parent\"><img src=\"https://colab.research.google.com/assets/colab-badge.svg\" alt=\"Open In Colab\"/></a>"
      ]
    },
    {
      "cell_type": "code",
      "metadata": {
        "id": "QdgZHTiL8KWz",
        "colab_type": "code",
        "outputId": "fb32dc8a-91cc-4299-ea62-71bf75b73935",
        "colab": {
          "base_uri": "https://localhost:8080/",
          "height": 34
        }
      },
      "source": [
        "# working with strings\n",
        "name = \"abdelilah\"\n",
        "print(\"%s is a software engineer\"%name)"
      ],
      "execution_count": 0,
      "outputs": [
        {
          "output_type": "stream",
          "text": [
            "abdelilah is a software engineer\n"
          ],
          "name": "stdout"
        }
      ]
    },
    {
      "cell_type": "code",
      "metadata": {
        "id": "fkNLkcjj9QcS",
        "colab_type": "code",
        "outputId": "4976c85e-3577-4f65-a038-d4b73804fd7b",
        "colab": {
          "base_uri": "https://localhost:8080/",
          "height": 51
        }
      },
      "source": [
        "print(id(name))\n",
        "print(type(name))"
      ],
      "execution_count": 0,
      "outputs": [
        {
          "output_type": "stream",
          "text": [
            "139788244228912\n",
            "<class 'str'>\n"
          ],
          "name": "stdout"
        }
      ]
    },
    {
      "cell_type": "code",
      "metadata": {
        "id": "YSIJSnAO9abF",
        "colab_type": "code",
        "outputId": "9b43d32a-f52c-4b34-e444-07c20b822ade",
        "colab": {
          "base_uri": "https://localhost:8080/",
          "height": 34
        }
      },
      "source": [
        "#working with number\n",
        "number =5\n",
        "print(number, type(number))"
      ],
      "execution_count": 0,
      "outputs": [
        {
          "output_type": "stream",
          "text": [
            "5 <class 'int'>\n"
          ],
          "name": "stdout"
        }
      ]
    },
    {
      "cell_type": "code",
      "metadata": {
        "id": "I2Qjp9F3_AF8",
        "colab_type": "code",
        "outputId": "ed1767fe-8461-450c-ad87-60c436ed5c39",
        "colab": {
          "base_uri": "https://localhost:8080/",
          "height": 34
        }
      },
      "source": [
        "number = 5+0j\n",
        "print(number, type(number))"
      ],
      "execution_count": 0,
      "outputs": [
        {
          "output_type": "stream",
          "text": [
            "(5+0j) <class 'complex'>\n"
          ],
          "name": "stdout"
        }
      ]
    },
    {
      "cell_type": "code",
      "metadata": {
        "id": "spDw5YSs_ORi",
        "colab_type": "code",
        "outputId": "2f72e7d9-93e3-4bfc-d8dc-bfe70e04915a",
        "colab": {
          "base_uri": "https://localhost:8080/",
          "height": 34
        }
      },
      "source": [
        "#conversion\n",
        "number=6\n",
        "print(float(number), type(float(number)))"
      ],
      "execution_count": 0,
      "outputs": [
        {
          "output_type": "stream",
          "text": [
            "6.0 <class 'float'>\n"
          ],
          "name": "stdout"
        }
      ]
    },
    {
      "cell_type": "code",
      "metadata": {
        "id": "leR4VH3eBaQ5",
        "colab_type": "code",
        "outputId": "b395924b-1822-475f-c2f3-3547b3126ff6",
        "colab": {
          "base_uri": "https://localhost:8080/",
          "height": 34
        }
      },
      "source": [
        "#working with Liste\n",
        "list =[1,3,4,7,9]\n",
        "print(len(list))"
      ],
      "execution_count": 0,
      "outputs": [
        {
          "output_type": "stream",
          "text": [
            "5\n"
          ],
          "name": "stdout"
        }
      ]
    },
    {
      "cell_type": "code",
      "metadata": {
        "id": "fqPNvWCCBiVA",
        "colab_type": "code",
        "outputId": "b7975d8b-11f0-4606-eb5d-bb8371d121de",
        "colab": {
          "base_uri": "https://localhost:8080/",
          "height": 34
        }
      },
      "source": [
        "print(list[1:4])"
      ],
      "execution_count": 0,
      "outputs": [
        {
          "output_type": "stream",
          "text": [
            "[3, 4, 7]\n"
          ],
          "name": "stdout"
        }
      ]
    },
    {
      "cell_type": "code",
      "metadata": {
        "id": "Fy79c8PcBmy9",
        "colab_type": "code",
        "outputId": "0972d16b-3946-4a9b-ea50-4c147197d548",
        "colab": {
          "base_uri": "https://localhost:8080/",
          "height": 34
        }
      },
      "source": [
        "print(list[:3])"
      ],
      "execution_count": 0,
      "outputs": [
        {
          "output_type": "stream",
          "text": [
            "[1, 3, 4]\n"
          ],
          "name": "stdout"
        }
      ]
    },
    {
      "cell_type": "code",
      "metadata": {
        "id": "BPesKcNuByoH",
        "colab_type": "code",
        "outputId": "71659bb1-ddee-4de0-c996-113a2fc0eb7c",
        "colab": {
          "base_uri": "https://localhost:8080/",
          "height": 34
        }
      },
      "source": [
        "print(list[1:])"
      ],
      "execution_count": 0,
      "outputs": [
        {
          "output_type": "stream",
          "text": [
            "[3, 4, 7, 9]\n"
          ],
          "name": "stdout"
        }
      ]
    },
    {
      "cell_type": "code",
      "metadata": {
        "id": "qhB-P2rDB72X",
        "colab_type": "code",
        "outputId": "1cf621d8-2672-431c-c8d0-28e42a596046",
        "colab": {
          "base_uri": "https://localhost:8080/",
          "height": 34
        }
      },
      "source": [
        "print(list[:-3])"
      ],
      "execution_count": 0,
      "outputs": [
        {
          "output_type": "stream",
          "text": [
            "[1, 3]\n"
          ],
          "name": "stdout"
        }
      ]
    },
    {
      "cell_type": "code",
      "metadata": {
        "id": "0jW7XcrhCGnR",
        "colab_type": "code",
        "outputId": "82422d52-472a-4d35-f4de-ee276aff2a15",
        "colab": {
          "base_uri": "https://localhost:8080/",
          "height": 34
        }
      },
      "source": [
        "print(list[-1:2])"
      ],
      "execution_count": 0,
      "outputs": [
        {
          "output_type": "stream",
          "text": [
            "[]\n"
          ],
          "name": "stdout"
        }
      ]
    },
    {
      "cell_type": "code",
      "metadata": {
        "id": "pKZrFa-xJk9i",
        "colab_type": "code",
        "outputId": "5c2eb3f8-f400-4000-b7db-30e175b6c7e6",
        "colab": {
          "base_uri": "https://localhost:8080/",
          "height": 34
        }
      },
      "source": [
        "print(list[::-1])"
      ],
      "execution_count": 0,
      "outputs": [
        {
          "output_type": "stream",
          "text": [
            "[9, 7, 4, 3, 1]\n"
          ],
          "name": "stdout"
        }
      ]
    },
    {
      "cell_type": "code",
      "metadata": {
        "id": "uM6scW-nKkLV",
        "colab_type": "code",
        "outputId": "57a9d3d2-0f9b-4482-a050-25c7ddbd4a36",
        "colab": {
          "base_uri": "https://localhost:8080/",
          "height": 34
        }
      },
      "source": [
        "a,b,c,d,e = list\n",
        "print(a,b,c,d,e)"
      ],
      "execution_count": 0,
      "outputs": [
        {
          "output_type": "stream",
          "text": [
            "1 3 4 7 9\n"
          ],
          "name": "stdout"
        }
      ]
    },
    {
      "cell_type": "code",
      "metadata": {
        "id": "1mcx5y4bK5r6",
        "colab_type": "code",
        "outputId": "ca23edf4-459b-4cc1-8260-fd74e5e0f0aa",
        "colab": {
          "base_uri": "https://localhost:8080/",
          "height": 34
        }
      },
      "source": [
        "a, *list = list\n",
        "print(a, list)"
      ],
      "execution_count": 0,
      "outputs": [
        {
          "output_type": "stream",
          "text": [
            "1 [3, 4, 7, 9]\n"
          ],
          "name": "stdout"
        }
      ]
    },
    {
      "cell_type": "code",
      "metadata": {
        "id": "0JuKzA7nH8xH",
        "colab_type": "code",
        "outputId": "380894fc-f3ab-4612-c949-fff1081cc6f0",
        "colab": {
          "base_uri": "https://localhost:8080/",
          "height": 34
        }
      },
      "source": [
        "print(list[1::2])"
      ],
      "execution_count": 0,
      "outputs": [
        {
          "output_type": "stream",
          "text": [
            "[3, 7]\n"
          ],
          "name": "stdout"
        }
      ]
    },
    {
      "cell_type": "code",
      "metadata": {
        "id": "yukslyWYH_cV",
        "colab_type": "code",
        "outputId": "82bdad49-13ae-47a8-e67e-ef4e52843537",
        "colab": {
          "base_uri": "https://localhost:8080/",
          "height": 34
        }
      },
      "source": [
        "#nested list\n",
        "list=[1,2,3,[4,5,6],\"Hello\"]\n",
        "list.append(\"Bonjour\")\n",
        "list.append([10,3,\"salut\"])\n",
        "list.extend([[20,10,4]])\n",
        "print(list)"
      ],
      "execution_count": 0,
      "outputs": [
        {
          "output_type": "stream",
          "text": [
            "[1, 2, 3, [4, 5, 6], 'Hello', 'Bonjour', [10, 3, 'salut'], [20, 10, 4]]\n"
          ],
          "name": "stdout"
        }
      ]
    },
    {
      "cell_type": "code",
      "metadata": {
        "id": "8o9AEx3KMvkt",
        "colab_type": "code",
        "outputId": "6210df35-de76-4069-f066-54c8d1295726",
        "colab": {
          "base_uri": "https://localhost:8080/",
          "height": 34
        }
      },
      "source": [
        "#sets\n",
        "list =[1,2,2,3,4,4,\"hello\",5,5,\"hello\"]\n",
        "list = set(list)\n",
        "list"
      ],
      "execution_count": 0,
      "outputs": [
        {
          "output_type": "execute_result",
          "data": {
            "text/plain": [
              "{1, 2, 3, 4, 5, 'hello'}"
            ]
          },
          "metadata": {
            "tags": []
          },
          "execution_count": 33
        }
      ]
    },
    {
      "cell_type": "code",
      "metadata": {
        "id": "6OqicwzS4C-O",
        "colab_type": "code",
        "colab": {}
      },
      "source": [
        "#inline input\n",
        "name = input(\"enter you name \\n\")\n",
        "print(\"input name is \", name)\n",
        "age = input(\"enter your age\\n\")\n",
        "print(\"age of %s is %d\"%(name,int(age)))"
      ],
      "execution_count": 0,
      "outputs": []
    },
    {
      "cell_type": "code",
      "metadata": {
        "id": "vplBrzae52ov",
        "colab_type": "code",
        "colab": {}
      },
      "source": [
        "name = input(\"entrer your name \\n\")[:4]\n",
        "\n",
        "print(\"the first 4 caracter are %s\"%name)"
      ],
      "execution_count": 0,
      "outputs": []
    },
    {
      "cell_type": "code",
      "metadata": {
        "id": "M6IXXQuV7lem",
        "colab_type": "code",
        "colab": {}
      },
      "source": [
        "#if, else, while\n",
        "\n",
        "number = input(\"enter a valid number\\n\")\n",
        "if int(number)%5 != 0:\n",
        "  print(\"great %d is modulo 5\")\n",
        "else :\n",
        "  print(\"please entrer valid number\\n\")"
      ],
      "execution_count": 0,
      "outputs": []
    },
    {
      "cell_type": "code",
      "metadata": {
        "id": "1kXlwpCI-FGc",
        "colab_type": "code",
        "colab": {}
      },
      "source": [
        "for name in (\"aboud\", \"mariya\", \"fati\", \"zineb\", \"hamza\"):\n",
        "  print(\"name is %s \"%name)\n",
        "list =[0,2,3]\n",
        "for index in range(0,list[len(list) - 1]):\n",
        "  print(index)"
      ],
      "execution_count": 0,
      "outputs": []
    },
    {
      "cell_type": "code",
      "metadata": {
        "id": "fGr0NNLXBlsQ",
        "colab_type": "code",
        "colab": {}
      },
      "source": [
        "#Arrays\n",
        "from array import *\n",
        "Arrays = array('i', [1,2,3,4])\n",
        "Arrays.append(-10)\n",
        "Arrays.remove(3)\n",
        "#Arrays.extend(30) not exist\n",
        "print(type(Arrays))\n",
        "print(Arrays)\n",
        "print(Arrays.index(4))\n",
        "print(Arrays*3)"
      ],
      "execution_count": 0,
      "outputs": []
    },
    {
      "cell_type": "code",
      "metadata": {
        "id": "hJyRL88QIhTy",
        "colab_type": "code",
        "colab": {}
      },
      "source": [
        "#Functions = directionary\n",
        "def myfunction(**myArgs):\n",
        "  print(myArgs)\n",
        "\n",
        "myfunction(a=1,b=2,c=3,e=4)"
      ],
      "execution_count": 0,
      "outputs": []
    },
    {
      "cell_type": "code",
      "metadata": {
        "id": "LTH761CgKTFB",
        "colab_type": "code",
        "outputId": "b89d31f1-4afd-4d7b-942b-0750f9dd1abb",
        "colab": {
          "base_uri": "https://localhost:8080/",
          "height": 34
        }
      },
      "source": [
        "#lambda,map,reduce\n",
        "lst =['a','e','d','f']\n",
        "l = filter(lambda x:x in ['a','d','k'], lst)\n",
        "print(l)"
      ],
      "execution_count": 0,
      "outputs": [
        {
          "output_type": "stream",
          "text": [
            "<filter object at 0x7f002c964780>\n"
          ],
          "name": "stdout"
        }
      ]
    },
    {
      "cell_type": "markdown",
      "metadata": {
        "id": "swI1KSpU1fx0",
        "colab_type": "text"
      },
      "source": [
        "**Comprehensions** [here](https://www.youtube.com/watch?v=3dt4OGnU5sM&list=PL-osiE80TeTt2d9bfVyTiXJA-UTHn6WwU&index=20)"
      ]
    },
    {
      "cell_type": "code",
      "metadata": {
        "id": "HBa-A0vt1fGp",
        "colab_type": "code",
        "colab": {}
      },
      "source": [
        ""
      ],
      "execution_count": 0,
      "outputs": []
    }
  ]
}